{
  "nbformat": 4,
  "nbformat_minor": 0,
  "metadata": {
    "colab": {
      "name": "LSTMTagger.ipynb",
      "provenance": [],
      "machine_shape": "hm"
    },
    "kernelspec": {
      "name": "python3",
      "display_name": "Python 3"
    },
    "language_info": {
      "name": "python"
    },
    "accelerator": "GPU"
  },
  "cells": [
    {
      "cell_type": "code",
      "metadata": {
        "colab": {
          "base_uri": "https://localhost:8080/"
        },
        "id": "g4JeBFpyx3FP",
        "outputId": "edcdea99-fffb-460a-b214-f3d50eef5ce1"
      },
      "source": [
        "from google.colab import drive\n",
        "drive.mount('/content/drive')"
      ],
      "execution_count": null,
      "outputs": [
        {
          "output_type": "stream",
          "text": [
            "Drive already mounted at /content/drive; to attempt to forcibly remount, call drive.mount(\"/content/drive\", force_remount=True).\n"
          ],
          "name": "stdout"
        }
      ]
    },
    {
      "cell_type": "code",
      "metadata": {
        "id": "A9hK8BXux5OR"
      },
      "source": [
        "# !pip install conllu\n",
        "\n",
        "from io import open\n",
        "from conllu import parse_incr\n",
        "import torch\n",
        "import torch.optim as optim\n",
        "from torch.utils.data import Dataset, DataLoader\n",
        "import torch.nn as nn\n",
        "import torch.nn.functional as F\n",
        "import re\n",
        "from torch.nn.utils.rnn import pack_padded_sequence, pad_packed_sequence, pad_sequence\n",
        "\n",
        "data_file = open(\"/content/drive/My Drive/zh_gsd-ud-train.conllu\", \"r\", encoding=\"utf-8\")\n",
        "\n",
        "# save dataset\n",
        "sentences_list = []\n",
        "pos_list = []\n",
        "\n",
        "for tokenlist in parse_incr(data_file):\n",
        "    temp_str = []\n",
        "    temp_pos = []\n",
        "    for s in tokenlist:\n",
        "        temp_str.append(s['form'])\n",
        "        temp_pos.append(s['upos'])\n",
        "    sentences_list.append(temp_str)\n",
        "    pos_list.append(temp_pos)\n",
        "    "
      ],
      "execution_count": null,
      "outputs": []
    },
    {
      "cell_type": "code",
      "metadata": {
        "id": "7Fj9LbD4u949"
      },
      "source": [
        ""
      ],
      "execution_count": null,
      "outputs": []
    },
    {
      "cell_type": "code",
      "metadata": {
        "id": "WRm0UvB3yMz3"
      },
      "source": [
        "train_sentence = sentences_list[:3500]\n",
        "train_pos = pos_list[:3500]\n",
        "\n",
        "test_sentence = sentences_list[3500:]\n",
        "test_pos = pos_list[3500:]"
      ],
      "execution_count": null,
      "outputs": []
    },
    {
      "cell_type": "code",
      "metadata": {
        "id": "gbilCw-VLRZo"
      },
      "source": [
        "from gensim.models import Word2Vec\n",
        "import numpy as np\n",
        "\n",
        "# Train Word2Vec model\n",
        "emb_model = Word2Vec(sentences_list, size=250, window=5, min_count=1, workers=4, sg=1, hs=1, iter=50)\n",
        "num_words = len(emb_model.wv.vocab) + 1\n",
        "pad = '<pad>'\n",
        "unk = '<unk>'\n",
        "pad_id = 0\n",
        "unk_id = 1\n",
        "\n",
        "idx2word = {\n",
        "  0: '<pad>',\n",
        "}\n",
        "\n",
        "word2idx = {\n",
        "  '<pad>': 0,\n",
        "}\n",
        "\n",
        "count_idx2w = 1\n",
        "count_w2idx = 1"
      ],
      "execution_count": null,
      "outputs": []
    },
    {
      "cell_type": "code",
      "metadata": {
        "id": "edmXk466_lRF"
      },
      "source": [
        "emb_matrix = np.zeros((num_words, 250), dtype=float)\n",
        "for i in range(num_words - 1):\n",
        "    v = emb_model.wv[emb_model.wv.index2word[i]]\n",
        "    emb_matrix[i+1] = v   # Plus 1 to reserve index 0 for OOV words\n",
        "    idx2word[count_idx2w] = emb_model.wv.index2word[i]\n",
        "    word2idx[emb_model.wv.index2word[i]] = count_w2idx\n",
        "    count_idx2w += 1\n",
        "    count_w2idx += 1"
      ],
      "execution_count": null,
      "outputs": []
    },
    {
      "cell_type": "code",
      "metadata": {
        "colab": {
          "base_uri": "https://localhost:8080/"
        },
        "id": "eYED5c37FUcn",
        "outputId": "bcd17c19-8254-4f2f-cbe6-8691a7d0042c"
      },
      "source": [
        "emb_matrix.shape"
      ],
      "execution_count": null,
      "outputs": [
        {
          "output_type": "execute_result",
          "data": {
            "text/plain": [
              "(17613, 250)"
            ]
          },
          "metadata": {
            "tags": []
          },
          "execution_count": 6
        }
      ]
    },
    {
      "cell_type": "code",
      "metadata": {
        "id": "_ZPwURTCSnDB"
      },
      "source": [
        "assert len(idx2word) == len(word2idx)"
      ],
      "execution_count": null,
      "outputs": []
    },
    {
      "cell_type": "code",
      "metadata": {
        "id": "m-b4pQonya2N"
      },
      "source": [
        "def add_dict(list_data: list, first_insert_list: list):\n",
        "    dict_data = {}\n",
        "    idx2dict = {}\n",
        "    count = 0\n",
        "\n",
        "    if len(first_insert_list) != 0:\n",
        "      for ele in first_insert_list:\n",
        "        if ele not in dict_data:\n",
        "          dict_data[ele] = count\n",
        "          idx2dict[count] = ele\n",
        "          count += 1\n",
        "    \n",
        "    for first_ele in list_data:\n",
        "        for second_ele in first_ele:\n",
        "            if second_ele not in dict_data:\n",
        "                dict_data[second_ele] = count\n",
        "                idx2dict[count] = second_ele\n",
        "                count += 1\n",
        "    \n",
        "    return dict_data, idx2dict\n",
        "\n",
        "# 建立辭典\n",
        "# dict_first_insert_word = [pad, unk]\n",
        "\n",
        "# dict_words, idx2word = add_dict(sentences_list, [])\n",
        "dict_pos, idx2pos = add_dict(pos_list, ['igner'])"
      ],
      "execution_count": null,
      "outputs": []
    },
    {
      "cell_type": "code",
      "metadata": {
        "colab": {
          "base_uri": "https://localhost:8080/"
        },
        "id": "XxE87i9Oklln",
        "outputId": "302aa7dd-82e3-4096-c010-d085fc217927"
      },
      "source": [
        "dict_pos"
      ],
      "execution_count": null,
      "outputs": [
        {
          "output_type": "execute_result",
          "data": {
            "text/plain": [
              "{'ADJ': 2,\n",
              " 'ADP': 10,\n",
              " 'ADV': 4,\n",
              " 'AUX': 1,\n",
              " 'CCONJ': 12,\n",
              " 'DET': 11,\n",
              " 'NOUN': 7,\n",
              " 'NUM': 6,\n",
              " 'PART': 9,\n",
              " 'PRON': 8,\n",
              " 'PROPN': 13,\n",
              " 'PUNCT': 3,\n",
              " 'SYM': 15,\n",
              " 'VERB': 5,\n",
              " 'X': 14,\n",
              " 'igner': 0}"
            ]
          },
          "metadata": {
            "tags": []
          },
          "execution_count": 9
        }
      ]
    },
    {
      "cell_type": "code",
      "metadata": {
        "id": "7g2T8S3KyeaL"
      },
      "source": [
        "# 建立數據集，餵給LSTM使用\n",
        "class POS_Dataset(Dataset):\n",
        "    def __init__(self, sentence_list, pos_list, word2idx, dict_pos):\n",
        "        self.sentence_list = sentence_list\n",
        "        self.pos_list = pos_list\n",
        "        self.dict_words = word2idx\n",
        "        self.dict_pos = dict_pos\n",
        "    \n",
        "    def __getitem__(self, idx):\n",
        "        source = self.sentence_list[idx]\n",
        "        target = self.pos_list[idx]\n",
        "\n",
        "        data_X = [self.dict_words[w] for w in source]\n",
        "        target_Y = [self.dict_pos[tag] for tag in target]\n",
        "        \n",
        "        data_X = torch.tensor(data_X, dtype=torch.long)\n",
        "        target_Y = torch.tensor(target_Y, dtype=torch.long)\n",
        "        \n",
        "        return data_X, target_Y\n",
        "        \n",
        "    def __len__(self):\n",
        "        return len(self.sentence_list)"
      ],
      "execution_count": null,
      "outputs": []
    },
    {
      "cell_type": "code",
      "metadata": {
        "id": "qDjmECzHygD5"
      },
      "source": [
        "def pad_collate(batch):\n",
        "  (xx, yy) = zip(*batch)\n",
        "  x_lens = [len(x) for x in xx]\n",
        "  y_lens = [len(y) for y in yy]\n",
        "\n",
        "  xx_pad = pad_sequence(xx, batch_first=True, padding_value=pad_id)\n",
        "  yy_pad = pad_sequence(yy, batch_first=True, padding_value=dict_pos['igner'])\n",
        "\n",
        "  return xx_pad, yy_pad, x_lens, y_lens\n",
        "\n",
        "batch_size = 100\n",
        "\n",
        "dataset = POS_Dataset(train_sentence, train_pos, word2idx, dict_pos)\n",
        "train_loader = DataLoader(dataset=dataset, batch_size=batch_size, shuffle=True, collate_fn=pad_collate)\n",
        "\n",
        "test_dataset = POS_Dataset(test_sentence, test_pos, word2idx, dict_pos)\n",
        "test_loader = DataLoader(dataset=test_dataset, batch_size=len(sentences_list)-3500, shuffle=False, collate_fn=pad_collate)"
      ],
      "execution_count": null,
      "outputs": []
    },
    {
      "cell_type": "code",
      "metadata": {
        "id": "JUwahHWpyiV8"
      },
      "source": [
        "# 建立模型 inputs > nn.Embedding > nn.LSTM > nn.Dropout > 取最後一個 state > nn.Linear > softmax\n",
        "class LSTM_Tagger(nn.Module):\n",
        "    def __init__(self, n_hidden, num_layers, dropout_ratio, pos_size, weight):\n",
        "        super(LSTM_Tagger, self).__init__()\n",
        "        \n",
        "        self.dropout = nn.Dropout(dropout_ratio)\n",
        "        self.word_embeddings = nn.Embedding.from_pretrained(weight, padding_idx = 0)\n",
        "        self.word_embeddings.weight.requires_grad=False\n",
        "\n",
        "        self.pos_size = pos_size\n",
        "        self.lstm = nn.LSTM(input_size=250, hidden_size=n_hidden, dropout=dropout_ratio, num_layers=num_layers, bidirectional=True)\n",
        "        self.fc1 = nn.Linear(in_features=n_hidden*2, out_features=128)\n",
        "        self.fc2 = nn.Linear(in_features=128, out_features=pos_size)\n",
        "\n",
        "\n",
        "    def forward(self, inputs, x_len):\n",
        "        batch_size = inputs.size(0)\n",
        "        embedded = self.word_embeddings(inputs)\n",
        "\n",
        "        x_packed = pack_padded_sequence(embedded, x_len, batch_first=True, enforce_sorted=False)\n",
        "        \n",
        "        output_packed, (hidden, cell) = self.lstm(x_packed)\n",
        "        outputs, output_lengths = pad_packed_sequence(output_packed, batch_first=True)\n",
        "\n",
        "        logits = self.fc1(outputs)\n",
        "        logits = self.dropout(logits)\n",
        "        logits = self.fc2(logits).view(-1, self.pos_size)\n",
        "\n",
        "        return logits"
      ],
      "execution_count": null,
      "outputs": []
    },
    {
      "cell_type": "code",
      "metadata": {
        "id": "cXLtuK8VN6m2"
      },
      "source": [
        "def categorical_accuracy(preds, y, tag_pad_idx):\n",
        "    max_preds = preds.argmax(dim = 1, keepdim = True) # get the index of the max probability\n",
        "    non_pad_elements = (y != tag_pad_idx).nonzero()\n",
        "    correct = max_preds[non_pad_elements].squeeze(1).eq(y[non_pad_elements])\n",
        "    return correct.sum() / y[non_pad_elements].shape[0]"
      ],
      "execution_count": null,
      "outputs": []
    },
    {
      "cell_type": "code",
      "metadata": {
        "id": "jdHVftLMykis"
      },
      "source": [
        "def train_batch(model, x_padded, y_padded, x_lens, criterion, optimizer, device):\n",
        "    model.train()\n",
        "    inputs, targets = x_padded.to(device), y_padded.to(device)\n",
        "    outputs = model(inputs, x_lens)\n",
        "    targets = targets.view(-1)\n",
        "    loss = criterion(outputs, targets)\n",
        "\n",
        "    acc = categorical_accuracy(outputs, targets, 0)\n",
        "\n",
        "    optimizer.zero_grad()\n",
        "    loss.backward()\n",
        "    optimizer.step()\n",
        "    \n",
        "    return loss.item(), acc.item()"
      ],
      "execution_count": null,
      "outputs": []
    },
    {
      "cell_type": "code",
      "metadata": {
        "colab": {
          "base_uri": "https://localhost:8080/"
        },
        "id": "-4LGOW0xymxF",
        "outputId": "9e3482d6-5f73-460d-9438-066841194a59"
      },
      "source": [
        "# 訓練模型\n",
        "epochs = 100\n",
        "lr = 0.0001\n",
        "\n",
        "device = torch.device('cuda' if torch.cuda.is_available() else 'cpu')\n",
        "\n",
        "model = LSTM_Tagger(128, 1, 0.8, len(dict_pos), torch.Tensor(emb_matrix))\n",
        "model.to(device)\n",
        "\n",
        "criterion = nn.CrossEntropyLoss(ignore_index = 0)\n",
        "criterion.to(device)\n",
        "\n",
        "optimizer = optim.Adam(model.parameters(), lr=lr, weight_decay=5e-4)\n",
        "\n",
        "train_loss_list = []\n",
        "val_loss_list = []\n",
        "\n",
        "for epoch in range(1, 1 + epochs):\n",
        "    tot_train_loss = 0\n",
        "    tot_train_acc = 0\n",
        "    tot_val_loss = 0\n",
        "    tot_val_acc = 0\n",
        "\n",
        "    for (x_padded, y_padded, x_lens, y_lens) in train_loader:\n",
        "      loss, acc = train_batch(model, x_padded, y_padded, x_lens, criterion, optimizer, device)\n",
        "      tot_train_loss += loss\n",
        "      tot_train_acc += acc\n",
        "\n",
        "    train_loss_list.append(tot_train_loss/35)\n",
        "    \n",
        "    \n",
        "    model.eval()\n",
        "    for (x_padded, y_padded, x_lens, y_lens) in test_loader:\n",
        "      inputs, targets = x_padded.to(device), y_padded.to(device)\n",
        "      outputs = model(inputs, x_lens)\n",
        "      targets = targets.view(-1)\n",
        "      loss = criterion(outputs, targets).item()\n",
        "      acc = categorical_accuracy(outputs, targets, 0).item()\n",
        "      tot_val_loss += loss\n",
        "      tot_val_acc += acc\n",
        "\n",
        "    val_loss_list.append(tot_val_loss)\n",
        "\n",
        "    print('epoch ', epoch, 'train_loss: ', tot_train_loss/35, '| train_acc: ', tot_train_acc/35)\n",
        "    print('       ', 'val_loss: ', tot_val_loss, '| val_acc: ', tot_val_acc)"
      ],
      "execution_count": null,
      "outputs": [
        {
          "output_type": "stream",
          "text": [
            "/usr/local/lib/python3.7/dist-packages/torch/nn/modules/rnn.py:65: UserWarning: dropout option adds dropout after all but last recurrent layer, so non-zero dropout expects num_layers greater than 1, but got dropout=0.8 and num_layers=1\n",
            "  \"num_layers={}\".format(dropout, num_layers))\n"
          ],
          "name": "stderr"
        },
        {
          "output_type": "stream",
          "text": [
            "epoch  1 train_loss:  2.695020866394043 | train_acc:  0.16741396486759186\n",
            "        val_loss:  2.5978410243988037 | val_acc:  0.26635661721229553\n",
            "epoch  2 train_loss:  2.457591574532645 | train_acc:  0.2616861245461873\n",
            "        val_loss:  2.279318332672119 | val_acc:  0.2661989629268646\n",
            "epoch  3 train_loss:  2.29945205279759 | train_acc:  0.2611251200948443\n",
            "        val_loss:  2.205702781677246 | val_acc:  0.2661989629268646\n",
            "epoch  4 train_loss:  2.230020877293178 | train_acc:  0.2853335993630545\n",
            "        val_loss:  2.1426844596862793 | val_acc:  0.306952565908432\n",
            "epoch  5 train_loss:  2.156456654412406 | train_acc:  0.3150904629911695\n",
            "        val_loss:  2.0579771995544434 | val_acc:  0.3492826819419861\n",
            "epoch  6 train_loss:  2.0568279879433766 | train_acc:  0.3557708850928715\n",
            "        val_loss:  1.9391855001449585 | val_acc:  0.3889327049255371\n",
            "epoch  7 train_loss:  1.9328834635870797 | train_acc:  0.39827234404427664\n",
            "        val_loss:  1.7977041006088257 | val_acc:  0.42054232954978943\n",
            "epoch  8 train_loss:  1.8039586237498693 | train_acc:  0.42733543515205386\n",
            "        val_loss:  1.6679707765579224 | val_acc:  0.4460034668445587\n",
            "epoch  9 train_loss:  1.6970640557152885 | train_acc:  0.45084882719176156\n",
            "        val_loss:  1.5623979568481445 | val_acc:  0.4736717641353607\n",
            "epoch  10 train_loss:  1.6094292197908675 | train_acc:  0.4773021766117641\n",
            "        val_loss:  1.4747511148452759 | val_acc:  0.5114299058914185\n",
            "epoch  11 train_loss:  1.5308233635766166 | train_acc:  0.5048311386789595\n",
            "        val_loss:  1.3990898132324219 | val_acc:  0.5441431403160095\n",
            "epoch  12 train_loss:  1.4642313514436995 | train_acc:  0.5298753789493016\n",
            "        val_loss:  1.3320190906524658 | val_acc:  0.567318320274353\n",
            "epoch  13 train_loss:  1.3994926861354282 | train_acc:  0.5557740569114685\n",
            "        val_loss:  1.2733287811279297 | val_acc:  0.5912817716598511\n",
            "epoch  14 train_loss:  1.3461921317236765 | train_acc:  0.5748182773590088\n",
            "        val_loss:  1.217423439025879 | val_acc:  0.6115403175354004\n",
            "epoch  15 train_loss:  1.2968356268746513 | train_acc:  0.5930642145020621\n",
            "        val_loss:  1.1683648824691772 | val_acc:  0.6316412091255188\n",
            "epoch  16 train_loss:  1.251688323702131 | train_acc:  0.6081166982650756\n",
            "        val_loss:  1.1268895864486694 | val_acc:  0.6506385207176208\n",
            "epoch  17 train_loss:  1.212641784123012 | train_acc:  0.6232220070702689\n",
            "        val_loss:  1.0848387479782104 | val_acc:  0.6667980551719666\n",
            "epoch  18 train_loss:  1.1739596026284354 | train_acc:  0.6377006326402936\n",
            "        val_loss:  1.050897479057312 | val_acc:  0.674759566783905\n",
            "epoch  19 train_loss:  1.1477480070931572 | train_acc:  0.6450788583074297\n",
            "        val_loss:  1.0166404247283936 | val_acc:  0.6830364465713501\n",
            "epoch  20 train_loss:  1.1128403084618705 | train_acc:  0.6581222585269383\n",
            "        val_loss:  0.9905036687850952 | val_acc:  0.691943883895874\n",
            "epoch  21 train_loss:  1.083936401775905 | train_acc:  0.6655152661459787\n",
            "        val_loss:  0.9673613905906677 | val_acc:  0.6982500553131104\n",
            "epoch  22 train_loss:  1.0609136274882724 | train_acc:  0.6752013393810817\n",
            "        val_loss:  0.9441425800323486 | val_acc:  0.7052656412124634\n",
            "epoch  23 train_loss:  1.037752410343715 | train_acc:  0.6816570401191712\n",
            "        val_loss:  0.9231204390525818 | val_acc:  0.7109411954879761\n",
            "epoch  24 train_loss:  1.02160279410226 | train_acc:  0.6876493079321725\n",
            "        val_loss:  0.9055219888687134 | val_acc:  0.7144884467124939\n",
            "epoch  25 train_loss:  1.0018479568617684 | train_acc:  0.6927549055644444\n",
            "        val_loss:  0.8914457559585571 | val_acc:  0.7196910381317139\n",
            "epoch  26 train_loss:  0.9812035935265677 | train_acc:  0.6986321755817958\n",
            "        val_loss:  0.8743588924407959 | val_acc:  0.7238688468933105\n",
            "epoch  27 train_loss:  0.9671466316495623 | train_acc:  0.7012840049607413\n",
            "        val_loss:  0.8626292943954468 | val_acc:  0.7267066240310669\n",
            "epoch  28 train_loss:  0.9528795838356018 | train_acc:  0.7068605286734445\n",
            "        val_loss:  0.8490886688232422 | val_acc:  0.730096161365509\n",
            "epoch  29 train_loss:  0.9405138151986259 | train_acc:  0.7093004294804164\n",
            "        val_loss:  0.8387066721916199 | val_acc:  0.7322245240211487\n",
            "epoch  30 train_loss:  0.9256429042134966 | train_acc:  0.7149812459945679\n",
            "        val_loss:  0.8272860050201416 | val_acc:  0.735062301158905\n",
            "epoch  31 train_loss:  0.9147852114268712 | train_acc:  0.718024514402662\n",
            "        val_loss:  0.8170843124389648 | val_acc:  0.7383730411529541\n",
            "epoch  32 train_loss:  0.9043964454105922 | train_acc:  0.7226201704570225\n",
            "        val_loss:  0.8098288774490356 | val_acc:  0.7386094927787781\n",
            "epoch  33 train_loss:  0.8900732721601213 | train_acc:  0.7254541431154523\n",
            "        val_loss:  0.7983675003051758 | val_acc:  0.7432603240013123\n",
            "epoch  34 train_loss:  0.8806251304490226 | train_acc:  0.729702307496752\n",
            "        val_loss:  0.7902617454528809 | val_acc:  0.747044026851654\n",
            "epoch  35 train_loss:  0.8705480933189392 | train_acc:  0.7316287023680551\n",
            "        val_loss:  0.7847983837127686 | val_acc:  0.7468075156211853\n",
            "epoch  36 train_loss:  0.863605557169233 | train_acc:  0.7343573621341161\n",
            "        val_loss:  0.7763891816139221 | val_acc:  0.7486993670463562\n",
            "epoch  37 train_loss:  0.8528807197298323 | train_acc:  0.7381295153072902\n",
            "        val_loss:  0.7670832872390747 | val_acc:  0.7520889639854431\n",
            "epoch  38 train_loss:  0.8480170369148254 | train_acc:  0.7381457907812936\n",
            "        val_loss:  0.7620989680290222 | val_acc:  0.7523254156112671\n",
            "epoch  39 train_loss:  0.8368146657943726 | train_acc:  0.7407059056418283\n",
            "        val_loss:  0.757375955581665 | val_acc:  0.7531925439834595\n",
            "epoch  40 train_loss:  0.8291603003229414 | train_acc:  0.7429872257368905\n",
            "        val_loss:  0.749450147151947 | val_acc:  0.7558726072311401\n",
            "epoch  41 train_loss:  0.8206161345754351 | train_acc:  0.7466415115765163\n",
            "        val_loss:  0.7438411116600037 | val_acc:  0.7568973898887634\n",
            "epoch  42 train_loss:  0.8142088890075684 | train_acc:  0.7482228602681841\n",
            "        val_loss:  0.7376315593719482 | val_acc:  0.7595775127410889\n",
            "epoch  43 train_loss:  0.8076206769262041 | train_acc:  0.7506533196994236\n",
            "        val_loss:  0.7320961952209473 | val_acc:  0.7607598900794983\n",
            "epoch  44 train_loss:  0.7995915532112121 | train_acc:  0.7526195355824061\n",
            "        val_loss:  0.7261254191398621 | val_acc:  0.7632035613059998\n",
            "epoch  45 train_loss:  0.7911324024200439 | train_acc:  0.7551371233803885\n",
            "        val_loss:  0.7208008766174316 | val_acc:  0.7651742100715637\n",
            "epoch  46 train_loss:  0.7890111480440413 | train_acc:  0.7564416221209935\n",
            "        val_loss:  0.7176506519317627 | val_acc:  0.7666719555854797\n",
            "epoch  47 train_loss:  0.7829567585672651 | train_acc:  0.7573015553610666\n",
            "        val_loss:  0.7125164270401001 | val_acc:  0.7667507529258728\n",
            "epoch  48 train_loss:  0.7736483335494995 | train_acc:  0.7608558484486171\n",
            "        val_loss:  0.7078932523727417 | val_acc:  0.7692732214927673\n",
            "epoch  49 train_loss:  0.7671513557434082 | train_acc:  0.7617607695715768\n",
            "        val_loss:  0.7028120756149292 | val_acc:  0.7711650729179382\n",
            "epoch  50 train_loss:  0.762986627646855 | train_acc:  0.7645869782992771\n",
            "        val_loss:  0.6996608376502991 | val_acc:  0.7710074186325073\n",
            "epoch  51 train_loss:  0.7555917263031006 | train_acc:  0.7667632017816816\n",
            "        val_loss:  0.6956887245178223 | val_acc:  0.7714803814888\n",
            "epoch  52 train_loss:  0.7510909148624965 | train_acc:  0.7673403773988996\n",
            "        val_loss:  0.690597414970398 | val_acc:  0.7732934355735779\n",
            "epoch  53 train_loss:  0.7430058768817357 | train_acc:  0.7693944045475551\n",
            "        val_loss:  0.6875577569007874 | val_acc:  0.7740817070007324\n",
            "epoch  54 train_loss:  0.7392814755439758 | train_acc:  0.7704308986663818\n",
            "        val_loss:  0.6844123601913452 | val_acc:  0.7728204727172852\n",
            "epoch  55 train_loss:  0.7344426717076983 | train_acc:  0.7735135623386928\n",
            "        val_loss:  0.6778984069824219 | val_acc:  0.7770771384239197\n",
            "epoch  56 train_loss:  0.7252949901989528 | train_acc:  0.7764020698411124\n",
            "        val_loss:  0.6754546165466309 | val_acc:  0.7775501012802124\n",
            "epoch  57 train_loss:  0.7209564106804984 | train_acc:  0.7771238275936672\n",
            "        val_loss:  0.6702972054481506 | val_acc:  0.7799937129020691\n",
            "epoch  58 train_loss:  0.7179812669754029 | train_acc:  0.7786005939756121\n",
            "        val_loss:  0.6667981147766113 | val_acc:  0.7803090214729309\n",
            "epoch  59 train_loss:  0.7127386672156197 | train_acc:  0.7783226472990853\n",
            "        val_loss:  0.6645504236221313 | val_acc:  0.7797572612762451\n",
            "epoch  60 train_loss:  0.7086730139596121 | train_acc:  0.7819609454699925\n",
            "        val_loss:  0.6598259806632996 | val_acc:  0.7813337445259094\n",
            "epoch  61 train_loss:  0.7009615727833339 | train_acc:  0.7821402856281825\n",
            "        val_loss:  0.6592234373092651 | val_acc:  0.7814126014709473\n",
            "epoch  62 train_loss:  0.6970417124884469 | train_acc:  0.7852641940116882\n",
            "        val_loss:  0.6529355645179749 | val_acc:  0.7835409045219421\n",
            "epoch  63 train_loss:  0.6947414347103664 | train_acc:  0.7852750880377634\n",
            "        val_loss:  0.6503682732582092 | val_acc:  0.7825161814689636\n",
            "epoch  64 train_loss:  0.6917489375386919 | train_acc:  0.7870650853429522\n",
            "        val_loss:  0.6466742157936096 | val_acc:  0.7848809957504272\n",
            "epoch  65 train_loss:  0.6819748112133571 | train_acc:  0.788867826121194\n",
            "        val_loss:  0.6432498693466187 | val_acc:  0.7868516445159912\n",
            "epoch  66 train_loss:  0.679417816230229 | train_acc:  0.7896247216633387\n",
            "        val_loss:  0.6401727199554443 | val_acc:  0.7873246073722839\n",
            "epoch  67 train_loss:  0.6748846360615322 | train_acc:  0.7913307360240391\n",
            "        val_loss:  0.6381585597991943 | val_acc:  0.7880340814590454\n",
            "epoch  68 train_loss:  0.6710405911718096 | train_acc:  0.7924298984663827\n",
            "        val_loss:  0.6342918276786804 | val_acc:  0.7904776930809021\n",
            "epoch  69 train_loss:  0.6654986773218428 | train_acc:  0.7947732601846967\n",
            "        val_loss:  0.6341185569763184 | val_acc:  0.7892164587974548\n",
            "epoch  70 train_loss:  0.6631080048424857 | train_acc:  0.7952106663158962\n",
            "        val_loss:  0.6285865306854248 | val_acc:  0.7913448214530945\n",
            "epoch  71 train_loss:  0.6563921502658299 | train_acc:  0.7952244520187378\n",
            "        val_loss:  0.6254433989524841 | val_acc:  0.7920542359352112\n",
            "epoch  72 train_loss:  0.6537308624812534 | train_acc:  0.7980410524777004\n",
            "        val_loss:  0.6272243857383728 | val_acc:  0.7915024757385254\n",
            "epoch  73 train_loss:  0.6512948172433036 | train_acc:  0.7989262955529349\n",
            "        val_loss:  0.620107114315033 | val_acc:  0.793867290019989\n",
            "epoch  74 train_loss:  0.6468791007995606 | train_acc:  0.7993674959455218\n",
            "        val_loss:  0.6180923581123352 | val_acc:  0.7947343587875366\n",
            "epoch  75 train_loss:  0.6403379610606602 | train_acc:  0.8026446495737348\n",
            "        val_loss:  0.6156600117683411 | val_acc:  0.7953649759292603\n",
            "epoch  76 train_loss:  0.6378172942570277 | train_acc:  0.8018696989331927\n",
            "        val_loss:  0.6121742129325867 | val_acc:  0.7966262102127075\n",
            "epoch  77 train_loss:  0.6334563187190465 | train_acc:  0.8051652772086008\n",
            "        val_loss:  0.6096919775009155 | val_acc:  0.7967050671577454\n",
            "epoch  78 train_loss:  0.627268648147583 | train_acc:  0.8054672598838806\n",
            "        val_loss:  0.6080745458602905 | val_acc:  0.7986757159233093\n",
            "epoch  79 train_loss:  0.6267231907163348 | train_acc:  0.8061943514006479\n",
            "        val_loss:  0.6042056679725647 | val_acc:  0.7999369502067566\n",
            "epoch  80 train_loss:  0.6201124157224382 | train_acc:  0.8095724276133947\n",
            "        val_loss:  0.6025952100753784 | val_acc:  0.8000158071517944\n",
            "epoch  81 train_loss:  0.619438978603908 | train_acc:  0.80812976871218\n",
            "        val_loss:  0.5999916195869446 | val_acc:  0.8005675673484802\n",
            "epoch  82 train_loss:  0.6139153684888567 | train_acc:  0.8092809694153922\n",
            "        val_loss:  0.5996199250221252 | val_acc:  0.8005675673484802\n",
            "epoch  83 train_loss:  0.6097492439406259 | train_acc:  0.8125066620962961\n",
            "        val_loss:  0.596045196056366 | val_acc:  0.8021441102027893\n",
            "epoch  84 train_loss:  0.6057699186461313 | train_acc:  0.8131864700998579\n",
            "        val_loss:  0.592512845993042 | val_acc:  0.8051395416259766\n",
            "epoch  85 train_loss:  0.6044409683772496 | train_acc:  0.8148003901754107\n",
            "        val_loss:  0.591359555721283 | val_acc:  0.802617073059082\n",
            "epoch  86 train_loss:  0.5996892298970904 | train_acc:  0.8152761237961905\n",
            "        val_loss:  0.5919680595397949 | val_acc:  0.8044301271438599\n",
            "epoch  87 train_loss:  0.5980484962463379 | train_acc:  0.8159063594681876\n",
            "        val_loss:  0.5865569710731506 | val_acc:  0.8037995100021362\n",
            "epoch  88 train_loss:  0.5934711354119437 | train_acc:  0.8172447000231061\n",
            "        val_loss:  0.5841956734657288 | val_acc:  0.8050607442855835\n",
            "epoch  89 train_loss:  0.5885132329804557 | train_acc:  0.8185572641236442\n",
            "        val_loss:  0.5817644000053406 | val_acc:  0.8071890473365784\n",
            "epoch  90 train_loss:  0.5865442701748439 | train_acc:  0.8188345381191798\n",
            "        val_loss:  0.5785895586013794 | val_acc:  0.8064796328544617\n",
            "epoch  91 train_loss:  0.5811429006712777 | train_acc:  0.8216105478150504\n",
            "        val_loss:  0.5774437785148621 | val_acc:  0.808056116104126\n",
            "epoch  92 train_loss:  0.5772108674049378 | train_acc:  0.8220925416265216\n",
            "        val_loss:  0.574805736541748 | val_acc:  0.8091596961021423\n",
            "epoch  93 train_loss:  0.5751771654401506 | train_acc:  0.8231243644441877\n",
            "        val_loss:  0.5742601156234741 | val_acc:  0.8096326589584351\n",
            "epoch  94 train_loss:  0.5682144250188556 | train_acc:  0.8247674533299038\n",
            "        val_loss:  0.5712085962295532 | val_acc:  0.8085290789604187\n",
            "epoch  95 train_loss:  0.5670612726892744 | train_acc:  0.8252876452037267\n",
            "        val_loss:  0.5704715251922607 | val_acc:  0.8099479675292969\n",
            "epoch  96 train_loss:  0.5649513619286674 | train_acc:  0.8256236348833357\n",
            "        val_loss:  0.5673694014549255 | val_acc:  0.8108938932418823\n",
            "epoch  97 train_loss:  0.5622267127037048 | train_acc:  0.8278942023004804\n",
            "        val_loss:  0.5663877129554749 | val_acc:  0.8118398189544678\n",
            "epoch  98 train_loss:  0.5562465463365828 | train_acc:  0.8284759129796709\n",
            "        val_loss:  0.5644944906234741 | val_acc:  0.8123916387557983\n",
            "epoch  99 train_loss:  0.5566183754376003 | train_acc:  0.8290646808488028\n",
            "        val_loss:  0.5617021322250366 | val_acc:  0.8123127818107605\n",
            "epoch  100 train_loss:  0.5527403695242745 | train_acc:  0.8298637798854283\n",
            "        val_loss:  0.559070348739624 | val_acc:  0.8141258358955383\n"
          ],
          "name": "stdout"
        }
      ]
    },
    {
      "cell_type": "code",
      "metadata": {
        "id": "HWc2mBzjyol5",
        "colab": {
          "base_uri": "https://localhost:8080/",
          "height": 279
        },
        "outputId": "888d47b5-f144-47a9-9eff-107400ff0260"
      },
      "source": [
        "import matplotlib.pyplot as plt\n",
        "\n",
        "range_list = [i for i in range(len(train_loss_list))] \n",
        "plt.plot(range_list, train_loss_list, label = \"train loss\")\n",
        "plt.plot(range_list, val_loss_list, label = \"val loss\")\n",
        "plt.xlabel('iter')\n",
        "plt.ylabel('loss')\n",
        "plt.legend()\n",
        "plt.show()"
      ],
      "execution_count": null,
      "outputs": [
        {
          "output_type": "display_data",
          "data": {
            "image/png": "[encoded data removed]",
            "text/plain": [
              "<Figure size 432x288 with 1 Axes>"
            ]
          },
          "metadata": {
            "tags": [],
            "needs_background": "light"
          }
        }
      ]
    },
    {
      "cell_type": "code",
      "metadata": {
        "id": "MForbqKZE9kX",
        "colab": {
          "base_uri": "https://localhost:8080/"
        },
        "outputId": "925bc6b5-1af1-435b-fcc4-8b00c334f119"
      },
      "source": [
        "test_dataset = POS_Dataset(test_sentence, test_pos, word2idx, dict_pos)\n",
        "test_loader = DataLoader(dataset=test_dataset, batch_size=1, shuffle=False, collate_fn=pad_collate)\n",
        "\n",
        "model.eval()\n",
        "\n",
        "def idx2str(idx_list, idx_dict):\n",
        "  temp_str = []\n",
        "  for idx in idx_list:\n",
        "    temp_str.append(idx_dict[idx.item()])\n",
        "  \n",
        "  return temp_str\n",
        "\n",
        "for (x_padded, y_padded, x_lens, y_lens) in test_loader:\n",
        "  inputs, targets = x_padded.to(device), y_padded.to(device)\n",
        "  print(idx2str(inputs[0], idx2word))\n",
        "  print(idx2str(targets[0], idx2pos))\n",
        "  outputs = model(inputs, x_lens).view(-1, len(dict_pos)).argmax(dim = -1)\n",
        "  temp_str = []\n",
        "  for idx in outputs:\n",
        "    temp_str.append(idx2pos[idx.item()])\n",
        "  print(temp_str)\n",
        "  print(\"-----------------------\")\n",
        "  \n",
        "  break\n",
        "\n",
        "\n"
      ],
      "execution_count": null,
      "outputs": [
        {
          "output_type": "stream",
          "text": [
            "['此線', '設', '12', '歲', '以下', '小童', '及', '65', '歲', '或', '以上', '長者', '半', '價', '優惠', '，', '此線', '所有', '巴士', '均', '接受', '八', '達', '通', '卡', '付款', '，', '上車', '付款', '、', '不', '設', '找續', '。']\n",
            "['NOUN', 'VERB', 'NUM', 'NOUN', 'ADP', 'NOUN', 'CCONJ', 'NUM', 'NOUN', 'CCONJ', 'DET', 'NOUN', 'NUM', 'NOUN', 'NOUN', 'PUNCT', 'NOUN', 'DET', 'NOUN', 'ADV', 'VERB', 'NUM', 'VERB', 'PART', 'PART', 'VERB', 'PUNCT', 'VERB', 'VERB', 'PUNCT', 'ADV', 'VERB', 'VERB', 'PUNCT']\n",
            "['NOUN', 'VERB', 'NUM', 'NOUN', 'NUM', 'NOUN', 'CCONJ', 'PART', 'NOUN', 'CCONJ', 'ADP', 'NOUN', 'NUM', 'NOUN', 'VERB', 'PUNCT', 'NOUN', 'DET', 'NOUN', 'ADV', 'VERB', 'NUM', 'VERB', 'PART', 'PART', 'NOUN', 'PUNCT', 'NOUN', 'NOUN', 'PUNCT', 'ADV', 'VERB', 'NOUN', 'PUNCT']\n",
            "-----------------------\n"
          ],
          "name": "stdout"
        }
      ]
    },
    {
      "cell_type": "code",
      "metadata": {
        "id": "ncKVYNIwIJuD"
      },
      "source": [
        ""
      ],
      "execution_count": null,
      "outputs": []
    }
  ]
}